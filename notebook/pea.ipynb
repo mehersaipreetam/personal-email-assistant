{
 "cells": [
  {
   "cell_type": "code",
   "execution_count": 1,
   "metadata": {},
   "outputs": [],
   "source": [
    "from pea.mail_util import Emails\n",
    "\n",
    "email_obj = Emails()"
   ]
  },
  {
   "cell_type": "code",
   "execution_count": 2,
   "metadata": {},
   "outputs": [
    {
     "name": "stdout",
     "output_type": "stream",
     "text": [
      "Mails length 3\n"
     ]
    },
    {
     "data": {
      "text/plain": [
       "[{'from': 'Reddit <noreply@redditmail.com>',\n",
       "  'subject': \"Updates to Reddit's Privacy Policy and User Agreement\",\n",
       "  'date_time': '2024-08-20 07:14:36 UTC',\n",
       "  'body': 'Email Template\\nEquivalent_Vehicle83\\nWe’re writing to let you know that we recently updated Reddit’s\\nUser Agreement and\\nPrivacy Policy.\\nWhile we encourage you to review the updated documents in full, here are some of the highlights:\\nWe reorganized sections of our Privacy Policy for improved clarity.\\nWe included language in the Privacy Policy to reflect our participation in the EU-US Data Privacy Framework.\\nWe clarified what content you submit is non-public.\\nWe updated the Privacy Policy to better reflect our current products, like Reddit Pro.\\nFor users in the EEA, United Kingdom, and Switzerland, we updated the User Agreement to reflect that the Reddit products and services are provided by Reddit Netherlands B.V.\\nUpdates to our Privacy Policy take effect immediately.\\nThe updated User Agreement takes effect September 16, 2024 and will apply to you if you use Reddit after that date.\\nFor more information about how we handle information that is made public on Reddit, please see our\\nPublic Content Policy.\\nIf you have questions, please visit\\nReddit Help.\\n- Reddit\\nYou are receiving this email because a Reddit account, u/Equivalent_Vehicle83, is registered to this email address.\\n5\\u200c4\\u200c8 M\\u200ca\\u200crket S\\u200ct., #16093, \\nSan Francisco, CA\\xa09\\u200c4\\u200c1\\u200c0\\u200c4-5\\u200c4\\u200c0\\u200c1'},\n",
       " {'from': 'Reddit <noreply@redditmail.com>',\n",
       "  'subject': '\"ISYE6501, MGT6655 and a Full Time Job...\"',\n",
       "  'date_time': '2024-08-20 16:33:53 UTC',\n",
       "  'body': \"Reddit\\nr/OMSA: ISYE6501, MGT6655 and a Full Time Job... Hi all,\\nThis is a lazy question, but it's been difficult for me to gauge just how demanding these courses would be based on pain matrix alone. Has anyone here taken ISYE6501 (iAM) along with MGT6655 ...\\nr/OMSA\\n·\\nPosted by u/Ok-Initiative-4149\\xa01d ago\\nISYE6501, MGT6655 and a Full Time Job...\\nHi all,\\nThis is a lazy question, but it's been difficult for me to gauge just how demanding these courses would be based on pain matrix alone. Has anyone here taken ISYE6501 (iAM) along with MGT6655 ... Read More\\n2\\xa0Votes\\n2\\xa0Comments\\nHide r/OMSA\\nr/OMSCS\\n·\\nPosted by u/Famous-Help-3572\\xa02d ago\\nplanning on taking ml 7641, am i going to have a life outside of class ? \\ntook AI last semester and got absolutely railed like a rag doll. However was able to scrape by with an A after countless number of hours into the homework and felt that i did not have a life outside o... Read More\\n20\\xa0Votes\\n38\\xa0Comments\\nHide r/OMSCS\\nr/gatech\\n·\\nPosted by u/lolcatttttt\\xa02d ago\\nIf someone tried to move in on Sunday, August 18, 2024, it might cause me a little trouble:\\nbut would you close?  Read More\\n47\\xa0Votes\\n0\\xa0Comments\\nHide r/gatech\\nr/learnmachinelearning\\n·\\nPosted by u/Sreeravan\\xa02d ago\\nBest Linear Algebra Books for Machine Learning\\nRead More\\n20\\xa0Votes\\n5\\xa0Comments\\nHide r/learnmachinelearning\\nr/LocalLLaMA\\n·\\nPosted by u/TyraVex\\xa04d ago\\nNvidia releases Llama-3.1-Minitron-4B-Width-Base, the 4B pruned model of Llama-3.1-8B\\nHi all,\\nQuoting myself from a previous post:\\n>Nvidia research developed a method to distill/prune LLMs into smaller ones with minimal performance loss. They tried their method on Llama 3.1 8B in ord... Read More\\n344\\xa0Votes\\n77\\xa0Comments\\nHide r/LocalLLaMA\\nVIEW MORE POSTS\\n548 MARKET ST. #16093,SAN FRANCISCO, CA\\xa094104–5401\\n This email was intended for u/Equivalent_Vehicle83 Unsubscribe from daily digest messages, or visit your settings to manage what emails Reddit sends you.\"},\n",
       " {'from': 'Reddit <noreply@redditmail.com>',\n",
       "  'subject': '\"Anyone here from a non-traditional backgroun...\"',\n",
       "  'date_time': '2024-08-21 16:35:44 UTC',\n",
       "  'body': \"Reddit\\nr/OMSA: Anyone here from a non-traditional background? I'm interested to hear other's journery! I graduated as a nurse in 2019 and worked through covid until end of 2022 where I picked up some skills in SQL and Excel, and landed my first analytics job in ...\\nr/OMSA\\n·\\nPosted by u/WestyDave\\xa02d ago\\nAnyone here from a non-traditional background?\\nI'm interested to hear other's journery! I graduated as a nurse in 2019 and worked through covid until end of 2022 where I picked up some skills in SQL and Excel, and landed my first analytics job in ... Read More\\n6\\xa0Votes\\n23\\xa0Comments\\nHide r/OMSA\\nr/OMSCS\\n·\\nPosted by u/jimlohse\\xa03d ago\\nFree and Discounted Stuff and Resources for OMSCS students.\\nWhat the title says, I moved my list of links to a website so as not to run afoul of the unwritten rule about not using too many links. If it's a written rule I cannot find it here or in r/help.\\n[htt... Read More\\n80\\xa0Votes\\n11\\xa0Comments\\nHide r/OMSCS\\nr/LocalLLaMA\\n·\\nPosted by u/remixer_dec\\xa021h ago\\nPhi-3.5 has been released\\n[Phi-3.5-mini-instruct](https://huggingface.co/microsoft/Phi-3.5-mini-instruct) (3.8B)\\nPhi-3.5 mini is a lightweight, state-of-the-art open model built upon datasets used for Phi-3 - synthetic data a... Read More\\n655\\xa0Votes\\n204\\xa0Comments\\nHide r/LocalLLaMA\\nr/learnmachinelearning\\n·\\nPosted by u/BEE_LLO\\xa02d ago\\nWhat are some crazy or awesome ML applications that are less shown in the media?\\nRead More\\n62\\xa0Votes\\n25\\xa0Comments\\nHide r/learnmachinelearning\\nr/gatech\\n·\\nPosted by u/matchacatt\\xa03d ago\\nI’m taking up a part one job while also being a full time student this semester and now I’m lost.\\nIm lost on what to do this semester. Im a CS major and going into my third year. Of course, recruitment season also comes with the Fall semester.\\nThe classes I’m taking are\\nCS 2110 - computer archi... Read More\\n31\\xa0Votes\\n45\\xa0Comments\\nHide r/gatech\\nVIEW MORE POSTS\\n548 MARKET ST. #16093,SAN FRANCISCO, CA\\xa094104–5401\\n This email was intended for u/Equivalent_Vehicle83 Unsubscribe from daily digest messages, or visit your settings to manage what emails Reddit sends you.\"}]"
      ]
     },
     "execution_count": 2,
     "metadata": {},
     "output_type": "execute_result"
    }
   ],
   "source": [
    "mails = email_obj.get_mails(from_addr=\"noreply@redditmail.com\")\n",
    "print(\"Mails length\", len(mails))\n",
    "email_obj.get_mails_content(mails)"
   ]
  },
  {
   "cell_type": "code",
   "execution_count": 3,
   "metadata": {},
   "outputs": [
    {
     "name": "stdout",
     "output_type": "stream",
     "text": [
      "Mails length 409\n"
     ]
    },
    {
     "data": {
      "text/plain": [
       "[{'from': 'Reddit <noreply@redditmail.com>',\n",
       "  'subject': '\"Paging Dr Joyner: what is the likelihood of ...\"',\n",
       "  'date_time': '2024-08-15 16:33:01 UTC',\n",
       "  'body': 'Reddit\\nr/OMSCS: Paging Dr Joyner: what is the likelihood of the Intro to C seminar being offered again? (was going to send an email but decided to post here instead so that the answer is searchable for others who also want to know)\\nFirst of all, thanks for listening to feedback and adding this seminar!...\\nr/OMSCS\\n·\\nPosted by u/-wimp\\xa02d ago\\nPaging Dr Joyner: what is the likelihood of the Intro to C seminar being offered again?\\n(was going to send an email but decided to post here instead so that the answer is searchable for others who also want to know)\\nFirst of all, thanks for listening to feedback and adding this seminar!... Read More\\n9\\xa0Votes\\n12\\xa0Comments\\nHide r/OMSCS\\nr/OMSA\\n·\\nPosted by u/PennilessPirate\\xa021h ago\\nWhich class should I pair with my (comp) practicum?\\nI’m in my last 2 semesters and still need to complete 3 classes plus my practicum (comp emphasis). The 3 classes I have left are Data Analytics in Business (DAB), Analysis of Unstructured Data (AUD), ... Read More\\n0\\xa0Votes\\n5\\xa0Comments\\nHide r/OMSA\\nr/learnmachinelearning\\n·\\nPosted by u/Consistent-Arm2391\\xa022h ago\\nHow to get a job in ML as a New Grad\\nRead More\\n56\\xa0Votes\\n7\\xa0Comments\\nHide r/learnmachinelearning\\nr/datascience\\n·\\nPosted by u/Rare_Art_9541\\xa03d ago\\nGoing back to school for another masters. What should I focus on?\\nI am going back to school for another master specifically so I can write a thesis on the GI bill. No I don’t wan t a PhD. I was fired last week and will be starting what topic should I focus on? Read More\\n14\\xa0Votes\\n43\\xa0Comments\\nHide r/datascience\\nr/OpenAI\\n·\\nPosted by u/Delicious_Belt8515\\xa020h ago\\nIs the subscription still worth it? \\nWhat comes with the free version? I’m sick of paying for this as I don’t use it nearly as much as I used to.  Read More\\n39\\xa0Votes\\n84\\xa0Comments\\nHide r/OpenAI\\nVIEW MORE POSTS\\n548 MARKET ST. #16093,SAN FRANCISCO, CA\\xa094104–5401\\n This email was intended for u/Equivalent_Vehicle83 Unsubscribe from daily digest messages, or visit your settings to manage what emails Reddit sends you.'},\n",
       " {'from': 'Reddit <noreply@redditmail.com>',\n",
       "  'subject': '\"NLP seats have been increased to 600, but I ...\"',\n",
       "  'date_time': '2024-08-16 16:33:15 UTC',\n",
       "  'body': \"Reddit\\nr/OMSCS: NLP seats have been increased to 600, but I didn't receive any waitlist notification. I am currently waitlisted at around 120 for the NLP course. It seems like they have increased the seat count to 600, but I haven't received any waitlist notification. Has anyone received one?\\nr/OMSCS\\n·\\nPosted by u/New_Round_3011\\xa03d ago\\nNLP seats have been increased to 600, but I didn't receive any waitlist notification.\\nI am currently waitlisted at around 120 for the NLP course. It seems like they have increased the seat count to 600, but I haven't received any waitlist notification. Has anyone received one? Read More\\n4\\xa0Votes\\n4\\xa0Comments\\nHide r/OMSCS\\nr/OMSA\\n·\\nPosted by u/QuantaDJ\\xa05d ago\\nFirst semester student. How to replace one course with a different one.\\nHi all. I made the mistake of registering for my first two courses for the OMSA immediately after my ticket was available, without doing much research about the courses, and I registered for 6040 and ... Read More\\n0\\xa0Votes\\n1\\xa0Comments\\nHide r/OMSA\\nr/learnmachinelearning\\n·\\nPosted by u/ElRamani\\xa01d ago\\nRate my Machine Learning Project \\nRead More\\n476\\xa0Votes\\n54\\xa0Comments\\nHide r/learnmachinelearning\\nr/ArtificialInteligence\\n·\\nPosted by u/Think_Cat1101\\xa01d ago\\nX’s New AI Image Generator Sparks Controversy with Taylor Swift and Kamala Harris Depictions\\n[https://www.msn.com/en-us/news/technology/x-s-new-ai-image-generator-sparks-controversy-with-taylor-swift-and-kamala-harris-depictions/ar-AA1oPeoI?cvid=d155315b236848718eb56a5de8e956a8&ei=8#comments]... Read More\\n18\\xa0Votes\\n50\\xa0Comments\\nHide r/ArtificialInteligence\\nr/singularity\\n·\\nPosted by u/jlpt1591\\xa014h ago\\nWhen GPT-5 Releases\\nRead More\\n271\\xa0Votes\\n78\\xa0Comments\\nHide r/singularity\\nVIEW MORE POSTS\\n548 MARKET ST. #16093,SAN FRANCISCO, CA\\xa094104–5401\\n This email was intended for u/Equivalent_Vehicle83 Unsubscribe from daily digest messages, or visit your settings to manage what emails Reddit sends you.\"},\n",
       " {'from': 'Reddit <noreply@redditmail.com>',\n",
       "  'subject': '\"Extra Long Waiting List - Fall 2024\"',\n",
       "  'date_time': '2024-08-17 16:32:32 UTC',\n",
       "  'body': \"Reddit\\nr/OMSCS: Extra Long Waiting List - Fall 2024 Who has changed their mind about what courses they’re going to take now they’re on a bloated waiting list or one that’s barely moving? 😄\\nr/OMSCS\\n·\\nPosted by u/wesDS2020\\xa02d ago\\nExtra Long Waiting List - Fall 2024\\nWho has changed their mind about what courses they’re going to take now they’re on a bloated waiting list or one that’s barely moving? 😄 Read More\\n7\\xa0Votes\\n17\\xa0Comments\\nHide r/OMSCS\\nr/OMSA\\n·\\nPosted by u/tor122\\xa020h ago\\nPut on a registration waitlist - what’s the chance? \\nNever had this happen yet in the program — I’m on the waitlist for ISYE 7406.\\nCan I reasonably expect to actually get into the class or should I look at taking something else? Graduating soon and I o... Read More\\n0\\xa0Votes\\n7\\xa0Comments\\nHide r/OMSA\\nr/LocalLLaMA\\n·\\nPosted by u/Rationalbeing866\\xa01d ago\\nCompanies, their best model (overall) and best open weights model as of 16th August 2024.\\nRead More\\n564\\xa0Votes\\n83\\xa0Comments\\nHide r/LocalLLaMA\\nr/learnmachinelearning\\n·\\nPosted by u/Max-abillion\\xa04d ago\\nBest prompt engineering course\\nHey y'all, before I spend money one something that's useless I wanted to check with some people on here. I need to be on top of my gen AI game for my next job starting in 1 month. The company said the... Read More\\n20\\xa0Votes\\n18\\xa0Comments\\nHide r/learnmachinelearning\\nr/datascience\\n·\\nPosted by u/ergodym\\xa04d ago\\nWFH vs On-site\\nAnyone recently made the switch from WFH to on-site or on-site to WFH? Happy with the choice and what's main pros and cons? Read More\\n26\\xa0Votes\\n78\\xa0Comments\\nHide r/datascience\\nVIEW MORE POSTS\\n548 MARKET ST. #16093,SAN FRANCISCO, CA\\xa094104–5401\\n This email was intended for u/Equivalent_Vehicle83 Unsubscribe from daily digest messages, or visit your settings to manage what emails Reddit sends you.\"},\n",
       " {'from': 'Reddit <noreply@redditmail.com>',\n",
       "  'subject': '\"My Review of Georgia Tech\\'s Online Master of...\"',\n",
       "  'date_time': '2024-08-18 16:34:01 UTC',\n",
       "  'body': \"Reddit\\nr/OMSA: My Review of Georgia Tech's Online Master of Science in Analytics So Far - 9 Courses Completed In January 2020, I started my second Master of Science program in Analytics from Georgia Tech. The OMSA - Online Master of Science in Analytics program is offered by three **top-10 ranked schools** in...\\nr/OMSA\\n·\\nPosted by u/Suspicious-Ad1320\\xa04h ago\\nMy Review of Georgia Tech's Online Master of Science in Analytics So Far - 9 Courses Completed\\nIn January 2020, I started my second Master of Science program in Analytics from Georgia Tech. The OMSA - Online Master of Science in Analytics program is offered by three **top-10 ranked schools** in... Read More\\n32\\xa0Votes\\n13\\xa0Comments\\nHide r/OMSA\\nr/gatech\\n·\\nPosted by u/GTLibrary\\xa02d ago\\nGeorgia Tech Library opens 8 a.m. Sunday, Aug. 18 \\nRead More\\n34\\xa0Votes\\n1\\xa0Comments\\nHide r/gatech\\nr/OMSCS\\n·\\nPosted by u/plausible-walrus\\xa03d ago\\nTwo courses + seminar whilst unemployed\\nI have a BS in CS, and beginning my OMSCS this fall. I signed up for Graduate Intro to Operating Systems and Human-Computer Interaction (and the DS&A seminar to refresh my alg knowledge), despite the ... Read More\\n18\\xa0Votes\\n11\\xa0Comments\\nHide r/OMSCS\\nr/LocalLLaMA\\n·\\nPosted by u/Batman4815\\xa05d ago\\n[Microsoft Research] Mutual Reasoning Makes Smaller LLMs Stronger Problem-Solvers. ‘rStar boosts GSM8K accuracy from 12.51% to 63.91% for LLaMA2-7B, from 36.46% to 81.88% for Mistral-7B, from 74.53% to 91.13% for LLaMA3-8B-Instruct’\\nRead More\\n393\\xa0Votes\\n81\\xa0Comments\\nHide r/LocalLLaMA\\nr/learnmachinelearning\\n·\\nPosted by u/samura9_jack\\xa04d ago\\nIndustry leading AI courses and certificates for software engineers?\\nWhat are some best Al courses and certificates for software engineers to transition to an Al engineering career?\\nI have 7 years experience and am trying to navigate to this new age career Read More\\n11\\xa0Votes\\n7\\xa0Comments\\nHide r/learnmachinelearning\\nVIEW MORE POSTS\\n548 MARKET ST. #16093,SAN FRANCISCO, CA\\xa094104–5401\\n This email was intended for u/Equivalent_Vehicle83 Unsubscribe from daily digest messages, or visit your settings to manage what emails Reddit sends you.\"},\n",
       " {'from': 'Reddit <noreply@redditmail.com>',\n",
       "  'subject': '\"Transfer credits? From OMSCS to omsa\"',\n",
       "  'date_time': '2024-08-19 16:33:30 UTC',\n",
       "  'body': 'Reddit\\nr/OMSA: Transfer credits? From OMSCS to omsa Hello all, I recently graduated from the OMSCS program and noticed a couple of courses I took are actually required classes to graduate for the OMSA problem. Does anyone know where I can find informat...\\nr/OMSA\\n·\\nPosted by u/Guilty-Pension3298\\xa021h ago\\nTransfer credits? From OMSCS to omsa\\nHello all, I recently graduated from the OMSCS program and noticed a couple of courses I took are actually required classes to graduate for the OMSA problem. Does anyone know where I can find informat... Read More\\n0\\xa0Votes\\n7\\xa0Comments\\nHide r/OMSA\\nr/OMSCS\\n·\\nPosted by u/spacextheclockmaster\\xa03d ago\\nOMS UAE Meetup in Dubai (August 24th)\\n(if you are already part of the \"OMS UAE\" WhatsApp group, please ignore this post)\\nHello all!\\nThe OMS UAE chapter is meeting up next week, a nice casual meetup during the first week to warm you up... Read More\\n8\\xa0Votes\\n9\\xa0Comments\\nHide r/OMSCS\\nr/learnmachinelearning\\n·\\nPosted by u/ChiaPlotting\\xa02d ago\\nFREE SOFTWARE to create  resume based on job description\\n# Introducing Resume_Builder_AIHawk🚀\\nAre you tired of spending hours perfecting your resume for every job application? Say hello to **Resume_Builder_AIHawk**, a powerful Python tool designed to make ... Read More\\n75\\xa0Votes\\n13\\xa0Comments\\nHide r/learnmachinelearning\\nr/LocalLLaMA\\n·\\nPosted by u/ojasaar\\xa03d ago\\nA single 3090 can serve Llama 3 to thousands of users\\nBenchmarking Llama 3.1 8B (fp16) with vLLM at 100 concurrent requests gets a worst case (p99) latency of 12.88 tokens/s.\\nThat\\'s an effective total of over 1300 tokens/s.\\nNote that this used a low toke... Read More\\n416\\xa0Votes\\n130\\xa0Comments\\nHide r/LocalLLaMA\\nr/gatech\\n·\\nPosted by u/smilingkevin\\xa03d ago\\nSeen outside Athens: Aww. Good try, buddy.\\nRead More\\n89\\xa0Votes\\n2\\xa0Comments\\nHide r/gatech\\nVIEW MORE POSTS\\n548 MARKET ST. #16093,SAN FRANCISCO, CA\\xa094104–5401\\n This email was intended for u/Equivalent_Vehicle83 Unsubscribe from daily digest messages, or visit your settings to manage what emails Reddit sends you.'}]"
      ]
     },
     "execution_count": 3,
     "metadata": {},
     "output_type": "execute_result"
    }
   ],
   "source": [
    "mails = email_obj.get_mails(filter=\"SEEN\", from_addr=\"noreply@redditmail.com\")\n",
    "print(\"Mails length\", len(mails))\n",
    "email_obj.get_mails_content(mails)"
   ]
  }
 ],
 "metadata": {
  "kernelspec": {
   "display_name": "pea",
   "language": "python",
   "name": "python3"
  },
  "language_info": {
   "codemirror_mode": {
    "name": "ipython",
    "version": 3
   },
   "file_extension": ".py",
   "mimetype": "text/x-python",
   "name": "python",
   "nbconvert_exporter": "python",
   "pygments_lexer": "ipython3",
   "version": "3.12.5"
  }
 },
 "nbformat": 4,
 "nbformat_minor": 2
}
